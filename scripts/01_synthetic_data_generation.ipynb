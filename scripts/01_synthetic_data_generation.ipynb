{
 "cells": [
  {
   "cell_type": "code",
   "execution_count": 2,
   "id": "713e9884-ca58-4347-b9fb-f6fc95431e28",
   "metadata": {},
   "outputs": [
    {
     "name": "stdout",
     "output_type": "stream",
     "text": [
      "Collecting faker\n",
      "  Using cached faker-37.6.0-py3-none-any.whl.metadata (15 kB)\n",
      "Requirement already satisfied: pandas in c:\\users\\loq\\anaconda3\\lib\\site-packages (2.2.3)\n",
      "Requirement already satisfied: numpy in c:\\users\\loq\\anaconda3\\lib\\site-packages (2.1.3)\n",
      "Requirement already satisfied: tzdata in c:\\users\\loq\\anaconda3\\lib\\site-packages (from faker) (2025.2)\n",
      "Requirement already satisfied: python-dateutil>=2.8.2 in c:\\users\\loq\\anaconda3\\lib\\site-packages (from pandas) (2.9.0.post0)\n",
      "Requirement already satisfied: pytz>=2020.1 in c:\\users\\loq\\anaconda3\\lib\\site-packages (from pandas) (2024.1)\n",
      "Requirement already satisfied: six>=1.5 in c:\\users\\loq\\anaconda3\\lib\\site-packages (from python-dateutil>=2.8.2->pandas) (1.17.0)\n",
      "Using cached faker-37.6.0-py3-none-any.whl (1.9 MB)\n",
      "Installing collected packages: faker\n",
      "Successfully installed faker-37.6.0\n"
     ]
    }
   ],
   "source": [
    "!pip install faker pandas numpy\n"
   ]
  },
  {
   "cell_type": "code",
   "execution_count": 6,
   "id": "1163421a-b511-4f66-b2c5-95187d5004af",
   "metadata": {},
   "outputs": [
    {
     "name": "stdout",
     "output_type": "stream",
     "text": [
      "Synthetic dataset generated successfully!\n"
     ]
    }
   ],
   "source": [
    "# scripts/01_synthetic_data_generation.py\n",
    "import pandas as pd\n",
    "import numpy as np\n",
    "from faker import Faker\n",
    "from datetime import datetime, timedelta\n",
    "\n",
    "# Initialize Faker and set a seed for reproducibility\n",
    "fake = Faker()\n",
    "np.random.seed(42)\n",
    "\n",
    "# Define parameters\n",
    "num_customers = 1000\n",
    "start_date = datetime(2022, 1, 1)\n",
    "end_date = datetime(2024, 12, 31)\n",
    "\n",
    "# Generate a base customer dataframe\n",
    "customer_ids = [f\"CUST_{i:04d}\" for i in range(1, num_customers+1)]\n",
    "signup_dates = [fake.date_between(start_date=start_date, end_date=end_date - timedelta(days=180)) for _ in range(num_customers)] # Ensure all have been customers for at least 6 months\n",
    "\n",
    "df_customers = pd.DataFrame({\n",
    "    'customer_id': customer_ids,\n",
    "    'signup_date': signup_dates,\n",
    "    'region': [fake.country() for _ in range(num_customers)],\n",
    "    'subscription_tier': np.random.choice(['Basic', 'Pro', 'Enterprise'], size=num_customers, p=[0.5, 0.35, 0.15]),\n",
    "    'initial_mrr': np.random.uniform(50, 1000, size=num_customers).round(2)\n",
    "})\n",
    "\n",
    "# Generate monthly snapshot data for each customer\n",
    "records = []\n",
    "for _, cust in df_customers.iterrows():\n",
    "    cust_start = cust['signup_date']\n",
    "    # Simulate churn: some customers churn after a certain period\n",
    "    months_active = np.random.geometric(p=0.05) # Most will have many months, some will churn early\n",
    "    active_months = list(pd.date_range(cust_start, periods=min(months_active, 36), freq='MS')) # Cap at 36 months\n",
    "\n",
    "    for snapshot_date in active_months:\n",
    "        if snapshot_date > pd.Timestamp(end_date):\n",
    "            break\n",
    "\n",
    "        # Simulate metrics that might indicate churn risk\n",
    "        login_count = np.random.negative_binomial(30, 0.7) # Most will have decent login counts, some low\n",
    "        support_tickets = np.random.poisson(lam=1.5) # Some users generate more tickets\n",
    "        # Mrr can grow or shrink slightly\n",
    "        mrr_change_pct = np.random.normal(0.02, 0.1)\n",
    "        current_mrr = round(max(10, cust['initial_mrr'] * (1 + mrr_change_pct)), 2)\n",
    "\n",
    "        records.append({\n",
    "            'customer_id': cust['customer_id'],\n",
    "            'snapshot_yearmonth': snapshot_date.strftime('%Y-%m'),\n",
    "            'snapshot_date': snapshot_date,\n",
    "            'login_count_last_30d': login_count,\n",
    "            'support_tickets_last_30d': support_tickets,\n",
    "            'current_mrr': current_mrr,\n",
    "            'is_churned': 0 # Will be updated later\n",
    "        })\n",
    "\n",
    "    # After the active months, the customer churns\n",
    "    if months_active < 36 and active_months:\n",
    "        churn_date = active_months[-1] + pd.offsets.MonthEnd()\n",
    "        records.append({\n",
    "            'customer_id': cust['customer_id'],\n",
    "            'snapshot_yearmonth': churn_date.strftime('%Y-%m'),\n",
    "            'snapshot_date': churn_date,\n",
    "            'login_count_last_30d': 0,\n",
    "            'support_tickets_last_30d': 0,\n",
    "            'current_mrr': 0,\n",
    "            'is_churned': 1\n",
    "        })\n",
    "\n",
    "df_monthly_snapshots = pd.DataFrame(records)\n",
    "\n",
    "# Calculate a \"Churn Risk Score\" based on behavior (a simple example)\n",
    "df_monthly_snapshots['churn_risk_score'] = (\n",
    "    (df_monthly_snapshots['login_count_last_30d'] < 5).astype(int) * 0.4 +\n",
    "    (df_monthly_snapshots['support_tickets_last_30d'] > 5).astype(int) * 0.3 +\n",
    "    (df_monthly_snapshots['current_mrr'] < df_monthly_snapshots.groupby('customer_id')['current_mrr'].transform('max') * 0.8).astype(int) * 0.3\n",
    ").round(2)\n",
    "\n",
    "# Merge with customer static data\n",
    "final_df = pd.merge(df_monthly_snapshots, df_customers, on='customer_id', how='left')\n",
    "\n",
    "# Save the final dataset\n",
    "final_df.to_csv(r\"C:\\Users\\LOQ\\saas_customer_churn_analysis\\data\\processed\\synthetic_churn_data.csv\", index=False)\n",
    "print(\"Synthetic dataset generated successfully!\")"
   ]
  },
  {
   "cell_type": "code",
   "execution_count": null,
   "id": "ac44959a-c01c-441d-9913-95ddb7722a66",
   "metadata": {},
   "outputs": [],
   "source": []
  }
 ],
 "metadata": {
  "kernelspec": {
   "display_name": "Python [conda env:base] *",
   "language": "python",
   "name": "conda-base-py"
  },
  "language_info": {
   "codemirror_mode": {
    "name": "ipython",
    "version": 3
   },
   "file_extension": ".py",
   "mimetype": "text/x-python",
   "name": "python",
   "nbconvert_exporter": "python",
   "pygments_lexer": "ipython3",
   "version": "3.13.5"
  }
 },
 "nbformat": 4,
 "nbformat_minor": 5
}
